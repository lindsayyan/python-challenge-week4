{
 "cells": [
  {
   "cell_type": "markdown",
   "metadata": {},
   "source": [
    "## Python week4 Homework\n",
    "### Loading data in "
   ]
  },
  {
   "cell_type": "code",
   "execution_count": 1,
   "metadata": {
    "collapsed": true
   },
   "outputs": [],
   "source": [
    "filename = 'purchase_data.json.txt' \n",
    "df=open(filename,'r')\n",
    "df_list = df.readline()"
   ]
  },
  {
   "cell_type": "code",
   "execution_count": null,
   "metadata": {},
   "outputs": [],
   "source": [
    "import json\n",
    "from pprint import pprint\n",
    "df_json = json.loads(df_list)\n",
    "pprint(df_json)"
   ]
  },
  {
   "cell_type": "code",
   "execution_count": 3,
   "metadata": {
    "scrolled": true
   },
   "outputs": [
    {
     "data": {
      "text/html": [
       "<div>\n",
       "<style>\n",
       "    .dataframe thead tr:only-child th {\n",
       "        text-align: right;\n",
       "    }\n",
       "\n",
       "    .dataframe thead th {\n",
       "        text-align: left;\n",
       "    }\n",
       "\n",
       "    .dataframe tbody tr th {\n",
       "        vertical-align: top;\n",
       "    }\n",
       "</style>\n",
       "<table border=\"1\" class=\"dataframe\">\n",
       "  <thead>\n",
       "    <tr style=\"text-align: right;\">\n",
       "      <th></th>\n",
       "      <th>Age</th>\n",
       "      <th>Gender</th>\n",
       "      <th>Item ID</th>\n",
       "      <th>Item Name</th>\n",
       "      <th>Price</th>\n",
       "      <th>SN</th>\n",
       "    </tr>\n",
       "  </thead>\n",
       "  <tbody>\n",
       "    <tr>\n",
       "      <th>0</th>\n",
       "      <td>38</td>\n",
       "      <td>Male</td>\n",
       "      <td>165</td>\n",
       "      <td>Bone Crushing Silver Skewer</td>\n",
       "      <td>3.37</td>\n",
       "      <td>Aelalis34</td>\n",
       "    </tr>\n",
       "    <tr>\n",
       "      <th>1</th>\n",
       "      <td>21</td>\n",
       "      <td>Male</td>\n",
       "      <td>119</td>\n",
       "      <td>Stormbringer, Dark Blade of Ending Misery</td>\n",
       "      <td>2.32</td>\n",
       "      <td>Eolo46</td>\n",
       "    </tr>\n",
       "    <tr>\n",
       "      <th>2</th>\n",
       "      <td>34</td>\n",
       "      <td>Male</td>\n",
       "      <td>174</td>\n",
       "      <td>Primitive Blade</td>\n",
       "      <td>2.46</td>\n",
       "      <td>Assastnya25</td>\n",
       "    </tr>\n",
       "    <tr>\n",
       "      <th>3</th>\n",
       "      <td>21</td>\n",
       "      <td>Male</td>\n",
       "      <td>92</td>\n",
       "      <td>Final Critic</td>\n",
       "      <td>1.36</td>\n",
       "      <td>Pheusrical25</td>\n",
       "    </tr>\n",
       "    <tr>\n",
       "      <th>4</th>\n",
       "      <td>23</td>\n",
       "      <td>Male</td>\n",
       "      <td>63</td>\n",
       "      <td>Stormfury Mace</td>\n",
       "      <td>1.27</td>\n",
       "      <td>Aela59</td>\n",
       "    </tr>\n",
       "  </tbody>\n",
       "</table>\n",
       "</div>"
      ],
      "text/plain": [
       "   Age Gender  Item ID                                  Item Name  Price  \\\n",
       "0   38   Male      165                Bone Crushing Silver Skewer   3.37   \n",
       "1   21   Male      119  Stormbringer, Dark Blade of Ending Misery   2.32   \n",
       "2   34   Male      174                            Primitive Blade   2.46   \n",
       "3   21   Male       92                               Final Critic   1.36   \n",
       "4   23   Male       63                             Stormfury Mace   1.27   \n",
       "\n",
       "             SN  \n",
       "0     Aelalis34  \n",
       "1        Eolo46  \n",
       "2   Assastnya25  \n",
       "3  Pheusrical25  \n",
       "4        Aela59  "
      ]
     },
     "execution_count": 3,
     "metadata": {},
     "output_type": "execute_result"
    }
   ],
   "source": [
    "import pandas as pd\n",
    "df_json2=pd.DataFrame(df_json)\n",
    "df_json2.head()"
   ]
  },
  {
   "cell_type": "code",
   "execution_count": 5,
   "metadata": {
    "collapsed": true
   },
   "outputs": [],
   "source": [
    "Total_players=len(df_json2['SN'].value_counts())\n",
    "number_unique_items=len(df_json2['Item ID'].value_counts())\n",
    "avg_price=df_json2['Price'].mean()\n",
    "total_revenue=df_json2['Price'].sum()"
   ]
  },
  {
   "cell_type": "markdown",
   "metadata": {},
   "source": [
    "### Purchasing Analysis"
   ]
  },
  {
   "cell_type": "code",
   "execution_count": 139,
   "metadata": {},
   "outputs": [
    {
     "data": {
      "text/html": [
       "<div>\n",
       "<style>\n",
       "    .dataframe thead tr:only-child th {\n",
       "        text-align: right;\n",
       "    }\n",
       "\n",
       "    .dataframe thead th {\n",
       "        text-align: left;\n",
       "    }\n",
       "\n",
       "    .dataframe tbody tr th {\n",
       "        vertical-align: top;\n",
       "    }\n",
       "</style>\n",
       "<table border=\"1\" class=\"dataframe\">\n",
       "  <thead>\n",
       "    <tr style=\"text-align: right;\">\n",
       "      <th></th>\n",
       "      <th>0</th>\n",
       "      <th>0</th>\n",
       "    </tr>\n",
       "  </thead>\n",
       "  <tbody>\n",
       "    <tr>\n",
       "      <th>0</th>\n",
       "      <td>Total_players</td>\n",
       "      <td>573.000000</td>\n",
       "    </tr>\n",
       "    <tr>\n",
       "      <th>1</th>\n",
       "      <td>number_unique_items</td>\n",
       "      <td>183.000000</td>\n",
       "    </tr>\n",
       "    <tr>\n",
       "      <th>2</th>\n",
       "      <td>avg_price</td>\n",
       "      <td>2.931192</td>\n",
       "    </tr>\n",
       "    <tr>\n",
       "      <th>3</th>\n",
       "      <td>total_revenue</td>\n",
       "      <td>2286.330000</td>\n",
       "    </tr>\n",
       "  </tbody>\n",
       "</table>\n",
       "</div>"
      ],
      "text/plain": [
       "                     0            0\n",
       "0        Total_players   573.000000\n",
       "1  number_unique_items   183.000000\n",
       "2            avg_price     2.931192\n",
       "3        total_revenue  2286.330000"
      ]
     },
     "execution_count": 139,
     "metadata": {},
     "output_type": "execute_result"
    }
   ],
   "source": [
    "pur_ana=[Total_players,number_unique_items,avg_price,total_revenue]\n",
    "pur_title=['Total_players','number_unique_items','avg_price','total_revenue']\n",
    "pur_ana2=pd.DataFrame(pur_ana)\n",
    "pur_title2=pd.DataFrame(pur_title)\n",
    "pur_ana_final=pd.concat([pur_title2,pur_ana2],axis=1)\n",
    "pur_ana_final.to_csv('Purchase_final_analysis.csv',sep=',')\n",
    "pur_ana_final"
   ]
  },
  {
   "cell_type": "code",
   "execution_count": 6,
   "metadata": {
    "collapsed": true,
    "scrolled": true
   },
   "outputs": [],
   "source": [
    "Male=df_json2[df_json2['Gender']=='Male']\n",
    "Male2=len(Male['SN'].value_counts())\n",
    "Female=df_json2[df_json2['Gender']=='Female']\n",
    "Female2=len(Female['SN'].value_counts())\n",
    "Other=df_json2[df_json2['Gender']=='Other / Non-Disclosed']\n",
    "Other2=len(Other['SN'].value_counts())"
   ]
  },
  {
   "cell_type": "code",
   "execution_count": 7,
   "metadata": {
    "collapsed": true
   },
   "outputs": [],
   "source": [
    "percent_male=Male2/Total_players*100\n",
    "percent_female=Female2/Total_players*100\n",
    "percent_other=Other2/Total_players*100"
   ]
  },
  {
   "cell_type": "code",
   "execution_count": 133,
   "metadata": {
    "collapsed": true
   },
   "outputs": [],
   "source": [
    "##Male\n",
    "male_purchase_count=len(Male)\n",
    "male_avg_price=Male['Price'].mean()\n",
    "male_total_purchase=Male['Price'].sum()\n",
    "normalized_total_male=male_total_purchase/male_purchase_count\n",
    "##Female\n",
    "female_purchase_count=len(Female)\n",
    "female_avg_price=Female['Price'].mean()\n",
    "female_total_purchase=Female['Price'].sum()\n",
    "normalized_total_female=female_total_purchase/female_purchase_count"
   ]
  },
  {
   "cell_type": "markdown",
   "metadata": {},
   "source": [
    "### Gender Summary"
   ]
  },
  {
   "cell_type": "code",
   "execution_count": 134,
   "metadata": {},
   "outputs": [
    {
     "data": {
      "text/html": [
       "<div>\n",
       "<style>\n",
       "    .dataframe thead tr:only-child th {\n",
       "        text-align: right;\n",
       "    }\n",
       "\n",
       "    .dataframe thead th {\n",
       "        text-align: left;\n",
       "    }\n",
       "\n",
       "    .dataframe tbody tr th {\n",
       "        vertical-align: top;\n",
       "    }\n",
       "</style>\n",
       "<table border=\"1\" class=\"dataframe\">\n",
       "  <thead>\n",
       "    <tr style=\"text-align: right;\">\n",
       "      <th></th>\n",
       "      <th>columns</th>\n",
       "      <th>male</th>\n",
       "      <th>female</th>\n",
       "    </tr>\n",
       "  </thead>\n",
       "  <tbody>\n",
       "    <tr>\n",
       "      <th>0</th>\n",
       "      <td>purchase_count</td>\n",
       "      <td>633.000000</td>\n",
       "      <td>136.000000</td>\n",
       "    </tr>\n",
       "    <tr>\n",
       "      <th>1</th>\n",
       "      <td>avg_price</td>\n",
       "      <td>2.950521</td>\n",
       "      <td>2.815515</td>\n",
       "    </tr>\n",
       "    <tr>\n",
       "      <th>2</th>\n",
       "      <td>total_purchase</td>\n",
       "      <td>1867.680000</td>\n",
       "      <td>382.910000</td>\n",
       "    </tr>\n",
       "    <tr>\n",
       "      <th>3</th>\n",
       "      <td>normalized_total</td>\n",
       "      <td>2.950521</td>\n",
       "      <td>2.815515</td>\n",
       "    </tr>\n",
       "  </tbody>\n",
       "</table>\n",
       "</div>"
      ],
      "text/plain": [
       "            columns         male      female\n",
       "0    purchase_count   633.000000  136.000000\n",
       "1         avg_price     2.950521    2.815515\n",
       "2    total_purchase  1867.680000  382.910000\n",
       "3  normalized_total     2.950521    2.815515"
      ]
     },
     "execution_count": 134,
     "metadata": {},
     "output_type": "execute_result"
    }
   ],
   "source": [
    "male=[male_purchase_count,male_avg_price,male_total_purchase,normalized_total_male]\n",
    "female=[female_purchase_count,female_avg_price,female_total_purchase,normalized_total_female]\n",
    "title=['purchase_count','avg_price','total_purchase','normalized_total']\n",
    "male2=pd.DataFrame(male)\n",
    "female2=pd.DataFrame(female)\n",
    "title2=pd.DataFrame(title)\n",
    "Gender_summary=pd.concat([title2,male2,female2],axis=1)\n",
    "Gender_summary.columns=(['columns','male','female'])\n",
    "Gender_summary.to_csv('Gender_analysis.csv',sep=',')\n",
    "Gender_summary"
   ]
  },
  {
   "cell_type": "markdown",
   "metadata": {},
   "source": [
    "### Age Demographics"
   ]
  },
  {
   "cell_type": "code",
   "execution_count": 116,
   "metadata": {
    "collapsed": true,
    "scrolled": true
   },
   "outputs": [],
   "source": [
    "##binning\n",
    "bins=[7,16,25,36,45]\n",
    "group_names = ['7-16', '17-25', '26-36','37-45']"
   ]
  },
  {
   "cell_type": "code",
   "execution_count": 117,
   "metadata": {
    "collapsed": true
   },
   "outputs": [],
   "source": [
    "df_json2['Buckets']=pd.cut(df_json2['Age'],bins,labels=group_names)"
   ]
  },
  {
   "cell_type": "code",
   "execution_count": 119,
   "metadata": {
    "collapsed": true
   },
   "outputs": [],
   "source": [
    "count_items= df_json2.groupby('Buckets').count()['Age']\n",
    "Avg_pur_Price= df_json2.groupby('Buckets').mean()['Price']\n",
    "Sum_pur_Price= df_json2.groupby('Buckets').sum()['Price']"
   ]
  },
  {
   "cell_type": "code",
   "execution_count": 120,
   "metadata": {},
   "outputs": [
    {
     "data": {
      "text/html": [
       "<div>\n",
       "<style>\n",
       "    .dataframe thead tr:only-child th {\n",
       "        text-align: right;\n",
       "    }\n",
       "\n",
       "    .dataframe thead th {\n",
       "        text-align: left;\n",
       "    }\n",
       "\n",
       "    .dataframe tbody tr th {\n",
       "        vertical-align: top;\n",
       "    }\n",
       "</style>\n",
       "<table border=\"1\" class=\"dataframe\">\n",
       "  <thead>\n",
       "    <tr style=\"text-align: right;\">\n",
       "      <th></th>\n",
       "      <th>Count</th>\n",
       "      <th>AvgPrice</th>\n",
       "      <th>TotalPrice</th>\n",
       "    </tr>\n",
       "    <tr>\n",
       "      <th>Buckets</th>\n",
       "      <th></th>\n",
       "      <th></th>\n",
       "      <th></th>\n",
       "    </tr>\n",
       "  </thead>\n",
       "  <tbody>\n",
       "    <tr>\n",
       "      <th>17-25</th>\n",
       "      <td>466</td>\n",
       "      <td>2.941288</td>\n",
       "      <td>1370.64</td>\n",
       "    </tr>\n",
       "    <tr>\n",
       "      <th>26-36</th>\n",
       "      <td>141</td>\n",
       "      <td>2.966099</td>\n",
       "      <td>418.22</td>\n",
       "    </tr>\n",
       "    <tr>\n",
       "      <th>37-45</th>\n",
       "      <td>40</td>\n",
       "      <td>2.899750</td>\n",
       "      <td>115.99</td>\n",
       "    </tr>\n",
       "    <tr>\n",
       "      <th>7-16</th>\n",
       "      <td>114</td>\n",
       "      <td>2.859737</td>\n",
       "      <td>326.01</td>\n",
       "    </tr>\n",
       "  </tbody>\n",
       "</table>\n",
       "</div>"
      ],
      "text/plain": [
       "         Count  AvgPrice  TotalPrice\n",
       "Buckets                             \n",
       "17-25      466  2.941288     1370.64\n",
       "26-36      141  2.966099      418.22\n",
       "37-45       40  2.899750      115.99\n",
       "7-16       114  2.859737      326.01"
      ]
     },
     "execution_count": 120,
     "metadata": {},
     "output_type": "execute_result"
    }
   ],
   "source": [
    "Summary=pd.concat([count_items,Avg_pur_Price,Sum_pur_Price],axis=1)\n",
    "Summary.columns=['Count','AvgPrice','TotalPrice']\n",
    "Summary.to_csv('Summary_analysis.csv',sep=',')\n",
    "Summary"
   ]
  },
  {
   "cell_type": "markdown",
   "metadata": {},
   "source": [
    "### Top Spenders"
   ]
  },
  {
   "cell_type": "code",
   "execution_count": null,
   "metadata": {
    "scrolled": true
   },
   "outputs": [],
   "source": [
    "Total_price_bySN=df_json2.groupby('SN').sum()['Price']\n",
    "Total_count_bySN=df_json2.groupby('SN').count()['Age']\n",
    "Avg_price_bySN=Total_price_bySN/Total_count_bySN\n",
    "Top_spender=[Total_price_bySN,Total_count_bySN,Avg_price_bySN]\n",
    "Top_spender2=pd.DataFrame(Top_spender)\n",
    "Top_spender3=Top_spender2.T"
   ]
  },
  {
   "cell_type": "code",
   "execution_count": 32,
   "metadata": {},
   "outputs": [],
   "source": [
    "Top_spender3=Top_spender3.rename(columns={'Unnamed 0':'Ave_spend'})"
   ]
  },
  {
   "cell_type": "code",
   "execution_count": 42,
   "metadata": {},
   "outputs": [],
   "source": [
    "Top_spender3=Top_spender3.sort_values('Price',ascending=False)\n",
    "Top_spender_summary=Top_spender3.head()"
   ]
  },
  {
   "cell_type": "code",
   "execution_count": 45,
   "metadata": {},
   "outputs": [
    {
     "data": {
      "text/html": [
       "<div>\n",
       "<style>\n",
       "    .dataframe thead tr:only-child th {\n",
       "        text-align: right;\n",
       "    }\n",
       "\n",
       "    .dataframe thead th {\n",
       "        text-align: left;\n",
       "    }\n",
       "\n",
       "    .dataframe tbody tr th {\n",
       "        vertical-align: top;\n",
       "    }\n",
       "</style>\n",
       "<table border=\"1\" class=\"dataframe\">\n",
       "  <thead>\n",
       "    <tr style=\"text-align: right;\">\n",
       "      <th></th>\n",
       "      <th>Total_spend</th>\n",
       "      <th>Total_items</th>\n",
       "      <th>Avg_spend</th>\n",
       "    </tr>\n",
       "    <tr>\n",
       "      <th>SN</th>\n",
       "      <th></th>\n",
       "      <th></th>\n",
       "      <th></th>\n",
       "    </tr>\n",
       "  </thead>\n",
       "  <tbody>\n",
       "    <tr>\n",
       "      <th>Undirrala66</th>\n",
       "      <td>17.06</td>\n",
       "      <td>5.0</td>\n",
       "      <td>3.412000</td>\n",
       "    </tr>\n",
       "    <tr>\n",
       "      <th>Saedue76</th>\n",
       "      <td>13.56</td>\n",
       "      <td>4.0</td>\n",
       "      <td>3.390000</td>\n",
       "    </tr>\n",
       "    <tr>\n",
       "      <th>Mindimnya67</th>\n",
       "      <td>12.74</td>\n",
       "      <td>4.0</td>\n",
       "      <td>3.185000</td>\n",
       "    </tr>\n",
       "    <tr>\n",
       "      <th>Haellysu29</th>\n",
       "      <td>12.73</td>\n",
       "      <td>3.0</td>\n",
       "      <td>4.243333</td>\n",
       "    </tr>\n",
       "    <tr>\n",
       "      <th>Eoda93</th>\n",
       "      <td>11.58</td>\n",
       "      <td>3.0</td>\n",
       "      <td>3.860000</td>\n",
       "    </tr>\n",
       "  </tbody>\n",
       "</table>\n",
       "</div>"
      ],
      "text/plain": [
       "             Total_spend  Total_items  Avg_spend\n",
       "SN                                              \n",
       "Undirrala66        17.06          5.0   3.412000\n",
       "Saedue76           13.56          4.0   3.390000\n",
       "Mindimnya67        12.74          4.0   3.185000\n",
       "Haellysu29         12.73          3.0   4.243333\n",
       "Eoda93             11.58          3.0   3.860000"
      ]
     },
     "execution_count": 45,
     "metadata": {},
     "output_type": "execute_result"
    }
   ],
   "source": [
    "Top_spender_summary.columns=(['Total_spend','Total_items','Avg_spend'])\n",
    "Top_spender_summary.to_csv('Top_spender_summary.csv',sep=',')\n",
    "Top_spender_summary"
   ]
  },
  {
   "cell_type": "markdown",
   "metadata": {},
   "source": [
    "### Most popular items"
   ]
  },
  {
   "cell_type": "code",
   "execution_count": 53,
   "metadata": {},
   "outputs": [
    {
     "data": {
      "text/html": [
       "<div>\n",
       "<style>\n",
       "    .dataframe thead tr:only-child th {\n",
       "        text-align: right;\n",
       "    }\n",
       "\n",
       "    .dataframe thead th {\n",
       "        text-align: left;\n",
       "    }\n",
       "\n",
       "    .dataframe tbody tr th {\n",
       "        vertical-align: top;\n",
       "    }\n",
       "</style>\n",
       "<table border=\"1\" class=\"dataframe\">\n",
       "  <thead>\n",
       "    <tr style=\"text-align: right;\">\n",
       "      <th></th>\n",
       "      <th>Age</th>\n",
       "      <th>Gender</th>\n",
       "      <th>Item ID</th>\n",
       "      <th>Item Name</th>\n",
       "      <th>Price</th>\n",
       "      <th>SN</th>\n",
       "      <th>Buckets</th>\n",
       "    </tr>\n",
       "  </thead>\n",
       "  <tbody>\n",
       "    <tr>\n",
       "      <th>0</th>\n",
       "      <td>38</td>\n",
       "      <td>Male</td>\n",
       "      <td>165</td>\n",
       "      <td>Bone Crushing Silver Skewer</td>\n",
       "      <td>3.37</td>\n",
       "      <td>Aelalis34</td>\n",
       "      <td>37-45</td>\n",
       "    </tr>\n",
       "    <tr>\n",
       "      <th>1</th>\n",
       "      <td>21</td>\n",
       "      <td>Male</td>\n",
       "      <td>119</td>\n",
       "      <td>Stormbringer, Dark Blade of Ending Misery</td>\n",
       "      <td>2.32</td>\n",
       "      <td>Eolo46</td>\n",
       "      <td>17-25</td>\n",
       "    </tr>\n",
       "    <tr>\n",
       "      <th>2</th>\n",
       "      <td>34</td>\n",
       "      <td>Male</td>\n",
       "      <td>174</td>\n",
       "      <td>Primitive Blade</td>\n",
       "      <td>2.46</td>\n",
       "      <td>Assastnya25</td>\n",
       "      <td>26-36</td>\n",
       "    </tr>\n",
       "    <tr>\n",
       "      <th>3</th>\n",
       "      <td>21</td>\n",
       "      <td>Male</td>\n",
       "      <td>92</td>\n",
       "      <td>Final Critic</td>\n",
       "      <td>1.36</td>\n",
       "      <td>Pheusrical25</td>\n",
       "      <td>17-25</td>\n",
       "    </tr>\n",
       "    <tr>\n",
       "      <th>4</th>\n",
       "      <td>23</td>\n",
       "      <td>Male</td>\n",
       "      <td>63</td>\n",
       "      <td>Stormfury Mace</td>\n",
       "      <td>1.27</td>\n",
       "      <td>Aela59</td>\n",
       "      <td>17-25</td>\n",
       "    </tr>\n",
       "  </tbody>\n",
       "</table>\n",
       "</div>"
      ],
      "text/plain": [
       "   Age Gender  Item ID                                  Item Name  Price  \\\n",
       "0   38   Male      165                Bone Crushing Silver Skewer   3.37   \n",
       "1   21   Male      119  Stormbringer, Dark Blade of Ending Misery   2.32   \n",
       "2   34   Male      174                            Primitive Blade   2.46   \n",
       "3   21   Male       92                               Final Critic   1.36   \n",
       "4   23   Male       63                             Stormfury Mace   1.27   \n",
       "\n",
       "             SN Buckets  \n",
       "0     Aelalis34   37-45  \n",
       "1        Eolo46   17-25  \n",
       "2   Assastnya25   26-36  \n",
       "3  Pheusrical25   17-25  \n",
       "4        Aela59   17-25  "
      ]
     },
     "execution_count": 53,
     "metadata": {},
     "output_type": "execute_result"
    }
   ],
   "source": [
    "df_json2.head()"
   ]
  },
  {
   "cell_type": "code",
   "execution_count": null,
   "metadata": {},
   "outputs": [],
   "source": [
    "#item_count=df_json2.groupby('Item Name').count()['Item ID']\n",
    "#item_Purchase_total=df_json2.groupby('Item Name').sum()['Price']\n",
    "item=df_json2[['Item Name','Price','Item ID']]\n",
    "item=item.drop_duplicates(subset=None, keep='first', inplace=False)\n",
    "item.index=item['Item Name']\n",
    "item"
   ]
  },
  {
   "cell_type": "code",
   "execution_count": 81,
   "metadata": {},
   "outputs": [],
   "source": [
    "pop_item=[item_count,item_Purchase_total]\n",
    "pop_item2=pd.DataFrame(pop_item)\n",
    "pop_item2=pop_item2.T\n",
    "pop_item2=pop_item2.reset_index()\n",
    "item=item.merge(pop_item2,how='inner',on='Item Name')"
   ]
  },
  {
   "cell_type": "code",
   "execution_count": 135,
   "metadata": {},
   "outputs": [
    {
     "data": {
      "text/html": [
       "<div>\n",
       "<style>\n",
       "    .dataframe thead tr:only-child th {\n",
       "        text-align: right;\n",
       "    }\n",
       "\n",
       "    .dataframe thead th {\n",
       "        text-align: left;\n",
       "    }\n",
       "\n",
       "    .dataframe tbody tr th {\n",
       "        vertical-align: top;\n",
       "    }\n",
       "</style>\n",
       "<table border=\"1\" class=\"dataframe\">\n",
       "  <thead>\n",
       "    <tr style=\"text-align: right;\">\n",
       "      <th></th>\n",
       "      <th>Item_name</th>\n",
       "      <th>Price</th>\n",
       "      <th>Item_ID</th>\n",
       "      <th>purchase_count</th>\n",
       "      <th>Total_amount_purchased</th>\n",
       "    </tr>\n",
       "  </thead>\n",
       "  <tbody>\n",
       "    <tr>\n",
       "      <th>3</th>\n",
       "      <td>Final Critic</td>\n",
       "      <td>1.36</td>\n",
       "      <td>92</td>\n",
       "      <td>14.0</td>\n",
       "      <td>38.60</td>\n",
       "    </tr>\n",
       "    <tr>\n",
       "      <th>4</th>\n",
       "      <td>Final Critic</td>\n",
       "      <td>4.62</td>\n",
       "      <td>101</td>\n",
       "      <td>14.0</td>\n",
       "      <td>38.60</td>\n",
       "    </tr>\n",
       "    <tr>\n",
       "      <th>53</th>\n",
       "      <td>Betrayal, Whisper of Grieving Widows</td>\n",
       "      <td>2.35</td>\n",
       "      <td>39</td>\n",
       "      <td>11.0</td>\n",
       "      <td>25.85</td>\n",
       "    </tr>\n",
       "    <tr>\n",
       "      <th>90</th>\n",
       "      <td>Arcane Gem</td>\n",
       "      <td>2.23</td>\n",
       "      <td>84</td>\n",
       "      <td>11.0</td>\n",
       "      <td>24.53</td>\n",
       "    </tr>\n",
       "    <tr>\n",
       "      <th>82</th>\n",
       "      <td>Stormcaller</td>\n",
       "      <td>2.78</td>\n",
       "      <td>180</td>\n",
       "      <td>10.0</td>\n",
       "      <td>34.65</td>\n",
       "    </tr>\n",
       "    <tr>\n",
       "      <th>81</th>\n",
       "      <td>Stormcaller</td>\n",
       "      <td>4.15</td>\n",
       "      <td>30</td>\n",
       "      <td>10.0</td>\n",
       "      <td>34.65</td>\n",
       "    </tr>\n",
       "    <tr>\n",
       "      <th>35</th>\n",
       "      <td>Serenity</td>\n",
       "      <td>1.49</td>\n",
       "      <td>13</td>\n",
       "      <td>9.0</td>\n",
       "      <td>13.41</td>\n",
       "    </tr>\n",
       "  </tbody>\n",
       "</table>\n",
       "</div>"
      ],
      "text/plain": [
       "                               Item_name  Price  Item_ID  purchase_count  \\\n",
       "3                           Final Critic   1.36       92            14.0   \n",
       "4                           Final Critic   4.62      101            14.0   \n",
       "53  Betrayal, Whisper of Grieving Widows   2.35       39            11.0   \n",
       "90                            Arcane Gem   2.23       84            11.0   \n",
       "82                           Stormcaller   2.78      180            10.0   \n",
       "81                           Stormcaller   4.15       30            10.0   \n",
       "35                              Serenity   1.49       13             9.0   \n",
       "\n",
       "    Total_amount_purchased  \n",
       "3                    38.60  \n",
       "4                    38.60  \n",
       "53                   25.85  \n",
       "90                   24.53  \n",
       "82                   34.65  \n",
       "81                   34.65  \n",
       "35                   13.41  "
      ]
     },
     "execution_count": 135,
     "metadata": {},
     "output_type": "execute_result"
    }
   ],
   "source": [
    "#item.columns=(['Item_name','Price','Item_ID','purchase_count','Total_amount_purchased'])\n",
    "item=item.sort_values('purchase_count',ascending=False)\n",
    "Item_summary=item.iloc[0:7,:]\n",
    "Item_summary.to_csv('item_summary.csv',sep=',')\n",
    "Item_summary"
   ]
  },
  {
   "cell_type": "markdown",
   "metadata": {},
   "source": [
    "### Most profitable items"
   ]
  },
  {
   "cell_type": "code",
   "execution_count": 136,
   "metadata": {},
   "outputs": [
    {
     "data": {
      "text/html": [
       "<div>\n",
       "<style>\n",
       "    .dataframe thead tr:only-child th {\n",
       "        text-align: right;\n",
       "    }\n",
       "\n",
       "    .dataframe thead th {\n",
       "        text-align: left;\n",
       "    }\n",
       "\n",
       "    .dataframe tbody tr th {\n",
       "        vertical-align: top;\n",
       "    }\n",
       "</style>\n",
       "<table border=\"1\" class=\"dataframe\">\n",
       "  <thead>\n",
       "    <tr style=\"text-align: right;\">\n",
       "      <th></th>\n",
       "      <th>Item_name</th>\n",
       "      <th>Price</th>\n",
       "      <th>Item_ID</th>\n",
       "      <th>purchase_count</th>\n",
       "      <th>Total_amount_purchased</th>\n",
       "    </tr>\n",
       "  </thead>\n",
       "  <tbody>\n",
       "    <tr>\n",
       "      <th>3</th>\n",
       "      <td>Final Critic</td>\n",
       "      <td>1.36</td>\n",
       "      <td>92</td>\n",
       "      <td>14.0</td>\n",
       "      <td>38.60</td>\n",
       "    </tr>\n",
       "    <tr>\n",
       "      <th>4</th>\n",
       "      <td>Final Critic</td>\n",
       "      <td>4.62</td>\n",
       "      <td>101</td>\n",
       "      <td>14.0</td>\n",
       "      <td>38.60</td>\n",
       "    </tr>\n",
       "    <tr>\n",
       "      <th>50</th>\n",
       "      <td>Retribution Axe</td>\n",
       "      <td>4.14</td>\n",
       "      <td>34</td>\n",
       "      <td>9.0</td>\n",
       "      <td>37.26</td>\n",
       "    </tr>\n",
       "    <tr>\n",
       "      <th>81</th>\n",
       "      <td>Stormcaller</td>\n",
       "      <td>4.15</td>\n",
       "      <td>30</td>\n",
       "      <td>10.0</td>\n",
       "      <td>34.65</td>\n",
       "    </tr>\n",
       "    <tr>\n",
       "      <th>82</th>\n",
       "      <td>Stormcaller</td>\n",
       "      <td>2.78</td>\n",
       "      <td>180</td>\n",
       "      <td>10.0</td>\n",
       "      <td>34.65</td>\n",
       "    </tr>\n",
       "    <tr>\n",
       "      <th>86</th>\n",
       "      <td>Spectral Diamond Doomblade</td>\n",
       "      <td>4.25</td>\n",
       "      <td>115</td>\n",
       "      <td>7.0</td>\n",
       "      <td>29.75</td>\n",
       "    </tr>\n",
       "    <tr>\n",
       "      <th>46</th>\n",
       "      <td>Orenmir</td>\n",
       "      <td>4.95</td>\n",
       "      <td>32</td>\n",
       "      <td>6.0</td>\n",
       "      <td>29.70</td>\n",
       "    </tr>\n",
       "  </tbody>\n",
       "</table>\n",
       "</div>"
      ],
      "text/plain": [
       "                     Item_name  Price  Item_ID  purchase_count  \\\n",
       "3                 Final Critic   1.36       92            14.0   \n",
       "4                 Final Critic   4.62      101            14.0   \n",
       "50             Retribution Axe   4.14       34             9.0   \n",
       "81                 Stormcaller   4.15       30            10.0   \n",
       "82                 Stormcaller   2.78      180            10.0   \n",
       "86  Spectral Diamond Doomblade   4.25      115             7.0   \n",
       "46                     Orenmir   4.95       32             6.0   \n",
       "\n",
       "    Total_amount_purchased  \n",
       "3                    38.60  \n",
       "4                    38.60  \n",
       "50                   37.26  \n",
       "81                   34.65  \n",
       "82                   34.65  \n",
       "86                   29.75  \n",
       "46                   29.70  "
      ]
     },
     "execution_count": 136,
     "metadata": {},
     "output_type": "execute_result"
    }
   ],
   "source": [
    "item=item.sort_values('Total_amount_purchased',ascending=False)\n",
    "Item_summary=item.iloc[0:7,:]\n",
    "Item_summary"
   ]
  }
 ],
 "metadata": {
  "kernelspec": {
   "display_name": "Python 3",
   "language": "python",
   "name": "python3"
  },
  "language_info": {
   "codemirror_mode": {
    "name": "ipython",
    "version": 3
   },
   "file_extension": ".py",
   "mimetype": "text/x-python",
   "name": "python",
   "nbconvert_exporter": "python",
   "pygments_lexer": "ipython3",
   "version": "3.6.1"
  }
 },
 "nbformat": 4,
 "nbformat_minor": 2
}
